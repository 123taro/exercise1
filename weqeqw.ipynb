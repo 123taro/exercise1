{
 "cells": [
  {
   "cell_type": "code",
   "execution_count": 19,
   "metadata": {},
   "outputs": [
    {
     "name": "stdout",
     "output_type": "stream",
     "text": [
      "Total occurrences of 'terrible': 9\n"
     ]
    }
   ],
   "source": [
    "def count_and_replace_word(filename):\n",
    "    # Read the file\n",
    "    with open(filename, 'r') as file:\n",
    "        text = file.read()\n",
    "\n",
    "    # Count the occurrences of \"terrible\"\n",
    "    count = text.count(\"terrible\")\n",
    "    print(f\"Total occurrences of 'terrible': {count}\")\n",
    "\n",
    "    # Replace even occurrences with \"pathetic\" and odd occurrences with \"marvellous\"\n",
    "    words = text.split()\n",
    "    new_words = []\n",
    "    for i, word in enumerate(words):\n",
    "        if word == \"terrible\" or word.startswith(\"terrible\"):\n",
    "            if len(word) > 8:\n",
    "                word = word[0:8].replace('terrible','marvellous')+word[8:]\n",
    "                new_words.append(word)\n",
    "            elif  words[0:i].count('terrible') % 2 == 1:\n",
    "                    new_words.append(\"pathetic\")\n",
    "            elif  words[0:i].count('terrible') % 2 == 0:\n",
    "                    new_words.append(\"marvellous\")\n",
    "        else:\n",
    "            new_words.append(word)\n",
    "  \n",
    "    \n",
    "    with open(\"result.txt\", 'w') as file:\n",
    "        file.write(' '.join(new_words))\n",
    "\n",
    "filename = \"file_to_read.txt\"\n",
    "\n",
    "count_and_replace_word('file_to_read.txt')\n"
   ]
  }
 ],
 "metadata": {
  "kernelspec": {
   "display_name": "Python 3.8.10 64-bit",
   "language": "python",
   "name": "python3"
  },
  "language_info": {
   "codemirror_mode": {
    "name": "ipython",
    "version": 3
   },
   "file_extension": ".py",
   "mimetype": "text/x-python",
   "name": "python",
   "nbconvert_exporter": "python",
   "pygments_lexer": "ipython3",
   "version": "3.8.10"
  },
  "orig_nbformat": 4,
  "vscode": {
   "interpreter": {
    "hash": "1c442f56f513d946697b54b9a37b89914a7453601d4cdab64d33f95287da7f98"
   }
  }
 },
 "nbformat": 4,
 "nbformat_minor": 2
}
